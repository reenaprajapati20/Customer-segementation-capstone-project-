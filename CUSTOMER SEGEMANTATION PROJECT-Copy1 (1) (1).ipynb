{
 "cells": [
  {
   "cell_type": "markdown",
   "id": "6f374745",
   "metadata": {},
   "source": [
    "# MACHINE LEARNING PROCESS FLOW"
   ]
  },
  {
   "cell_type": "raw",
   "id": "9803181e",
   "metadata": {},
   "source": [
    "# MLPF contains 6 steps for completion or addresess conclusion.\n",
    "1.IMPORTING LIBRARY\n",
    "2.LOADING THE DATA\n",
    "3.EXPLORATORY DATA ANALYSIS(EDA)\n",
    "4.TRAIN-TEST SPLIT\n",
    "5.BUILDING THE MODEL\n",
    "6.TUNNING PROCESS CONCLUSION"
   ]
  },
  {
   "cell_type": "markdown",
   "id": "096d6d18",
   "metadata": {},
   "source": [
    "# 1. IMPORTING LIBRARY"
   ]
  },
  {
   "cell_type": "code",
   "execution_count": 1,
   "id": "6f48baa8",
   "metadata": {},
   "outputs": [],
   "source": [
    "import seaborn as sns\n",
    "import numpy as np\n",
    "import pandas as pd\n",
    "import matplotlib.pyplot as plt\n",
    "\n",
    "%matplotlib inline\n",
    "from sklearn import preprocessing\n",
    "from sklearn.cluster import KMeans,DBSCAN\n",
    "from sklearn import preprocessing\n",
    "from sklearn.preprocessing import StandardScaler\n"
   ]
  },
  {
   "cell_type": "markdown",
   "id": "0c87836a",
   "metadata": {},
   "source": [
    "# 2.LOADING THE DATA¶"
   ]
  },
  {
   "cell_type": "raw",
   "id": "ea5dcaba",
   "metadata": {},
   "source": [
    "# DATA IS LOADED BY COPY PATH OF SYSTEM LOCATED EXCEL FILE."
   ]
  },
  {
   "cell_type": "code",
   "execution_count": 2,
   "id": "0adf4a03",
   "metadata": {},
   "outputs": [],
   "source": [
    "df = pd.read_csv(r'C:\\Users\\reena\\OneDrive\\cstomer transaction original.csv')"
   ]
  },
  {
   "cell_type": "code",
   "execution_count": 3,
   "id": "613995be",
   "metadata": {},
   "outputs": [
    {
     "data": {
      "text/html": [
       "<div>\n",
       "<style scoped>\n",
       "    .dataframe tbody tr th:only-of-type {\n",
       "        vertical-align: middle;\n",
       "    }\n",
       "\n",
       "    .dataframe tbody tr th {\n",
       "        vertical-align: top;\n",
       "    }\n",
       "\n",
       "    .dataframe thead th {\n",
       "        text-align: right;\n",
       "    }\n",
       "</style>\n",
       "<table border=\"1\" class=\"dataframe\">\n",
       "  <thead>\n",
       "    <tr style=\"text-align: right;\">\n",
       "      <th></th>\n",
       "      <th>TransactionID</th>\n",
       "      <th>CustomerID</th>\n",
       "      <th>CustomerDOB</th>\n",
       "      <th>CustGender</th>\n",
       "      <th>CustLocation</th>\n",
       "      <th>CustAccountBalance</th>\n",
       "      <th>TransactionDate</th>\n",
       "      <th>TransactionTime</th>\n",
       "      <th>TransactionAmount (INR)</th>\n",
       "    </tr>\n",
       "  </thead>\n",
       "  <tbody>\n",
       "    <tr>\n",
       "      <th>0</th>\n",
       "      <td>T1</td>\n",
       "      <td>C5841053</td>\n",
       "      <td>10-01-1994</td>\n",
       "      <td>F</td>\n",
       "      <td>JAMSHEDPUR</td>\n",
       "      <td>17819.05</td>\n",
       "      <td>02-08-2016</td>\n",
       "      <td>143207</td>\n",
       "      <td>25.0</td>\n",
       "    </tr>\n",
       "    <tr>\n",
       "      <th>1</th>\n",
       "      <td>T2</td>\n",
       "      <td>C2142763</td>\n",
       "      <td>04-04-1957</td>\n",
       "      <td>M</td>\n",
       "      <td>JHAJJAR</td>\n",
       "      <td>2270.69</td>\n",
       "      <td>02-08-2016</td>\n",
       "      <td>141858</td>\n",
       "      <td>27999.0</td>\n",
       "    </tr>\n",
       "    <tr>\n",
       "      <th>2</th>\n",
       "      <td>T3</td>\n",
       "      <td>C4417068</td>\n",
       "      <td>26-11-1996</td>\n",
       "      <td>F</td>\n",
       "      <td>MUMBAI</td>\n",
       "      <td>17874.44</td>\n",
       "      <td>02-08-2016</td>\n",
       "      <td>142712</td>\n",
       "      <td>459.0</td>\n",
       "    </tr>\n",
       "    <tr>\n",
       "      <th>3</th>\n",
       "      <td>T4</td>\n",
       "      <td>C5342380</td>\n",
       "      <td>14-09-1973</td>\n",
       "      <td>F</td>\n",
       "      <td>MUMBAI</td>\n",
       "      <td>866503.21</td>\n",
       "      <td>02-08-2016</td>\n",
       "      <td>142714</td>\n",
       "      <td>2060.0</td>\n",
       "    </tr>\n",
       "    <tr>\n",
       "      <th>4</th>\n",
       "      <td>T5</td>\n",
       "      <td>C9031234</td>\n",
       "      <td>24-03-1988</td>\n",
       "      <td>F</td>\n",
       "      <td>NAVI MUMBAI</td>\n",
       "      <td>6714.43</td>\n",
       "      <td>02-08-2016</td>\n",
       "      <td>181156</td>\n",
       "      <td>1762.5</td>\n",
       "    </tr>\n",
       "  </tbody>\n",
       "</table>\n",
       "</div>"
      ],
      "text/plain": [
       "  TransactionID CustomerID CustomerDOB CustGender CustLocation  \\\n",
       "0            T1   C5841053  10-01-1994          F   JAMSHEDPUR   \n",
       "1            T2   C2142763  04-04-1957          M      JHAJJAR   \n",
       "2            T3   C4417068  26-11-1996          F       MUMBAI   \n",
       "3            T4   C5342380  14-09-1973          F       MUMBAI   \n",
       "4            T5   C9031234  24-03-1988          F  NAVI MUMBAI   \n",
       "\n",
       "   CustAccountBalance TransactionDate  TransactionTime  \\\n",
       "0            17819.05      02-08-2016           143207   \n",
       "1             2270.69      02-08-2016           141858   \n",
       "2            17874.44      02-08-2016           142712   \n",
       "3           866503.21      02-08-2016           142714   \n",
       "4             6714.43      02-08-2016           181156   \n",
       "\n",
       "   TransactionAmount (INR)  \n",
       "0                     25.0  \n",
       "1                  27999.0  \n",
       "2                    459.0  \n",
       "3                   2060.0  \n",
       "4                   1762.5  "
      ]
     },
     "execution_count": 3,
     "metadata": {},
     "output_type": "execute_result"
    }
   ],
   "source": [
    "df.head()"
   ]
  },
  {
   "cell_type": "code",
   "execution_count": 4,
   "id": "2b096d3d",
   "metadata": {},
   "outputs": [
    {
     "data": {
      "text/plain": [
       "(1048567, 9)"
      ]
     },
     "execution_count": 4,
     "metadata": {},
     "output_type": "execute_result"
    }
   ],
   "source": [
    "df.shape"
   ]
  },
  {
   "cell_type": "markdown",
   "id": "0930512a",
   "metadata": {},
   "source": [
    "# 3.EXPLORATORY DATA ANALYSIS(EDA)"
   ]
  },
  {
   "cell_type": "raw",
   "id": "ab9beb15",
   "metadata": {},
   "source": [
    "#MAIN PURPOSE OF EDA IS 'SET THE DATA ,\n",
    "CLEAN THE DATA BY REMOVING NULL VALUES,\n",
    "UNIQUE VALUES,CONVERT ALL CATEGORICAL VARIABLE INTO NUMERIC VARIBLE SO MACHINE LEARNING LANGUAGE CAN ACSESS INTO THIER OWN LANGUAGES.\n",
    "#BY STANDERED SCALAR CONVERT ALL VALUES IN A SPECIFIC RANGES WHERE DOMINANCY OF VARIABLE CAN NULLYFY."
   ]
  },
  {
   "cell_type": "raw",
   "id": "43bf35b6",
   "metadata": {},
   "source": [
    "#BY USING INFO() FUNCTION CAN EASILY GET INFORMATION OF DATA\n",
    "#IN THE FORM OF (TOTAL DATA ENTRIES,DATA COLUMNS AND ROWS)"
   ]
  },
  {
   "cell_type": "raw",
   "id": "4b72843f",
   "metadata": {},
   "source": [
    "# 1.FILLING UP MISSING VALUES\n",
    "2.CONVERTING CATEGORICAL VALUES INTO NUMERIC VALUES\n",
    "3.APPLY STANDARDIZATION (STANDERAD SCALER OR Z-SCORE)\n",
    "4.DETACTION OF OUTLIER BY USING BOXP-LOT."
   ]
  },
  {
   "cell_type": "code",
   "execution_count": 5,
   "id": "e5b441c6",
   "metadata": {
    "scrolled": true
   },
   "outputs": [
    {
     "name": "stdout",
     "output_type": "stream",
     "text": [
      "<class 'pandas.core.frame.DataFrame'>\n",
      "RangeIndex: 1048567 entries, 0 to 1048566\n",
      "Data columns (total 9 columns):\n",
      " #   Column                   Non-Null Count    Dtype  \n",
      "---  ------                   --------------    -----  \n",
      " 0   TransactionID            1048567 non-null  object \n",
      " 1   CustomerID               1048567 non-null  object \n",
      " 2   CustomerDOB              1045170 non-null  object \n",
      " 3   CustGender               1047467 non-null  object \n",
      " 4   CustLocation             1048416 non-null  object \n",
      " 5   CustAccountBalance       1046198 non-null  float64\n",
      " 6   TransactionDate          1048567 non-null  object \n",
      " 7   TransactionTime          1048567 non-null  int64  \n",
      " 8   TransactionAmount (INR)  1048567 non-null  float64\n",
      "dtypes: float64(2), int64(1), object(6)\n",
      "memory usage: 72.0+ MB\n"
     ]
    }
   ],
   "source": [
    "df.info()"
   ]
  },
  {
   "cell_type": "raw",
   "id": "683bbdd0",
   "metadata": {},
   "source": [
    "#DESCRIBE FUNCTION HAVE A INFORMATION ABOUT SUMMARY STASTISTICS\n",
    "#SUMARIZING THE NUMERIC INFORMATION OF THE COLUMN BY USING MEASURE OF CENTRAL TENDANCY (MEAN,MEADIAN,MODE,INTERQUARTILE ).\n",
    "#AND ANOTHER IS MEASURES DISPERSION (RANGE AND STANDERED DEVIATION )"
   ]
  },
  {
   "cell_type": "code",
   "execution_count": 6,
   "id": "7cb03cd2",
   "metadata": {},
   "outputs": [
    {
     "data": {
      "text/html": [
       "<div>\n",
       "<style scoped>\n",
       "    .dataframe tbody tr th:only-of-type {\n",
       "        vertical-align: middle;\n",
       "    }\n",
       "\n",
       "    .dataframe tbody tr th {\n",
       "        vertical-align: top;\n",
       "    }\n",
       "\n",
       "    .dataframe thead th {\n",
       "        text-align: right;\n",
       "    }\n",
       "</style>\n",
       "<table border=\"1\" class=\"dataframe\">\n",
       "  <thead>\n",
       "    <tr style=\"text-align: right;\">\n",
       "      <th></th>\n",
       "      <th>count</th>\n",
       "      <th>mean</th>\n",
       "      <th>std</th>\n",
       "      <th>min</th>\n",
       "      <th>25%</th>\n",
       "      <th>50%</th>\n",
       "      <th>75%</th>\n",
       "      <th>max</th>\n",
       "    </tr>\n",
       "  </thead>\n",
       "  <tbody>\n",
       "    <tr>\n",
       "      <th>CustAccountBalance</th>\n",
       "      <td>1046198.0</td>\n",
       "      <td>115403.540056</td>\n",
       "      <td>846485.380601</td>\n",
       "      <td>0.0</td>\n",
       "      <td>4721.76</td>\n",
       "      <td>16792.18</td>\n",
       "      <td>57657.36</td>\n",
       "      <td>1.150355e+08</td>\n",
       "    </tr>\n",
       "    <tr>\n",
       "      <th>TransactionTime</th>\n",
       "      <td>1048567.0</td>\n",
       "      <td>157087.529393</td>\n",
       "      <td>51261.854022</td>\n",
       "      <td>0.0</td>\n",
       "      <td>124030.00</td>\n",
       "      <td>164226.00</td>\n",
       "      <td>200010.00</td>\n",
       "      <td>2.359590e+05</td>\n",
       "    </tr>\n",
       "    <tr>\n",
       "      <th>TransactionAmount (INR)</th>\n",
       "      <td>1048567.0</td>\n",
       "      <td>1574.335003</td>\n",
       "      <td>6574.742978</td>\n",
       "      <td>0.0</td>\n",
       "      <td>161.00</td>\n",
       "      <td>459.03</td>\n",
       "      <td>1200.00</td>\n",
       "      <td>1.560035e+06</td>\n",
       "    </tr>\n",
       "  </tbody>\n",
       "</table>\n",
       "</div>"
      ],
      "text/plain": [
       "                             count           mean            std  min  \\\n",
       "CustAccountBalance       1046198.0  115403.540056  846485.380601  0.0   \n",
       "TransactionTime          1048567.0  157087.529393   51261.854022  0.0   \n",
       "TransactionAmount (INR)  1048567.0    1574.335003    6574.742978  0.0   \n",
       "\n",
       "                               25%        50%        75%           max  \n",
       "CustAccountBalance         4721.76   16792.18   57657.36  1.150355e+08  \n",
       "TransactionTime          124030.00  164226.00  200010.00  2.359590e+05  \n",
       "TransactionAmount (INR)     161.00     459.03    1200.00  1.560035e+06  "
      ]
     },
     "execution_count": 6,
     "metadata": {},
     "output_type": "execute_result"
    }
   ],
   "source": [
    "df.describe().T\n"
   ]
  },
  {
   "cell_type": "raw",
   "id": "c3677377",
   "metadata": {},
   "source": [
    "#IDENTIFY ALL NULL VALUES IN THE ENTIRE DATA SET"
   ]
  },
  {
   "cell_type": "code",
   "execution_count": 7,
   "id": "6ccb405f",
   "metadata": {},
   "outputs": [
    {
     "data": {
      "text/plain": [
       "TransactionID                 0\n",
       "CustomerID                    0\n",
       "CustomerDOB                3397\n",
       "CustGender                 1100\n",
       "CustLocation                151\n",
       "CustAccountBalance         2369\n",
       "TransactionDate               0\n",
       "TransactionTime               0\n",
       "TransactionAmount (INR)       0\n",
       "dtype: int64"
      ]
     },
     "execution_count": 7,
     "metadata": {},
     "output_type": "execute_result"
    }
   ],
   "source": [
    "df.isna().sum()"
   ]
  },
  {
   "cell_type": "raw",
   "id": "69bd18ac",
   "metadata": {},
   "source": [
    "# DROP ALL NULL VALES BY USING DROPNA FUNCTION"
   ]
  },
  {
   "cell_type": "code",
   "execution_count": 8,
   "id": "727a685a",
   "metadata": {},
   "outputs": [],
   "source": [
    "df = df.dropna()"
   ]
  },
  {
   "cell_type": "code",
   "execution_count": 9,
   "id": "be994e50",
   "metadata": {},
   "outputs": [
    {
     "data": {
      "text/plain": [
       "TransactionID              0\n",
       "CustomerID                 0\n",
       "CustomerDOB                0\n",
       "CustGender                 0\n",
       "CustLocation               0\n",
       "CustAccountBalance         0\n",
       "TransactionDate            0\n",
       "TransactionTime            0\n",
       "TransactionAmount (INR)    0\n",
       "dtype: int64"
      ]
     },
     "execution_count": 9,
     "metadata": {},
     "output_type": "execute_result"
    }
   ],
   "source": [
    "df.isna().sum()"
   ]
  },
  {
   "cell_type": "raw",
   "id": "bdcf309a",
   "metadata": {},
   "source": [
    "#DROP THE UNUSED COLUMN "
   ]
  },
  {
   "cell_type": "code",
   "execution_count": 10,
   "id": "a5c5df48",
   "metadata": {},
   "outputs": [
    {
     "data": {
      "text/html": [
       "<div>\n",
       "<style scoped>\n",
       "    .dataframe tbody tr th:only-of-type {\n",
       "        vertical-align: middle;\n",
       "    }\n",
       "\n",
       "    .dataframe tbody tr th {\n",
       "        vertical-align: top;\n",
       "    }\n",
       "\n",
       "    .dataframe thead th {\n",
       "        text-align: right;\n",
       "    }\n",
       "</style>\n",
       "<table border=\"1\" class=\"dataframe\">\n",
       "  <thead>\n",
       "    <tr style=\"text-align: right;\">\n",
       "      <th></th>\n",
       "      <th>CustGender</th>\n",
       "      <th>CustLocation</th>\n",
       "      <th>CustAccountBalance</th>\n",
       "      <th>TransactionAmount (INR)</th>\n",
       "    </tr>\n",
       "  </thead>\n",
       "  <tbody>\n",
       "    <tr>\n",
       "      <th>0</th>\n",
       "      <td>F</td>\n",
       "      <td>JAMSHEDPUR</td>\n",
       "      <td>17819.05</td>\n",
       "      <td>25.0</td>\n",
       "    </tr>\n",
       "    <tr>\n",
       "      <th>1</th>\n",
       "      <td>M</td>\n",
       "      <td>JHAJJAR</td>\n",
       "      <td>2270.69</td>\n",
       "      <td>27999.0</td>\n",
       "    </tr>\n",
       "    <tr>\n",
       "      <th>2</th>\n",
       "      <td>F</td>\n",
       "      <td>MUMBAI</td>\n",
       "      <td>17874.44</td>\n",
       "      <td>459.0</td>\n",
       "    </tr>\n",
       "    <tr>\n",
       "      <th>3</th>\n",
       "      <td>F</td>\n",
       "      <td>MUMBAI</td>\n",
       "      <td>866503.21</td>\n",
       "      <td>2060.0</td>\n",
       "    </tr>\n",
       "    <tr>\n",
       "      <th>4</th>\n",
       "      <td>F</td>\n",
       "      <td>NAVI MUMBAI</td>\n",
       "      <td>6714.43</td>\n",
       "      <td>1762.5</td>\n",
       "    </tr>\n",
       "    <tr>\n",
       "      <th>...</th>\n",
       "      <td>...</td>\n",
       "      <td>...</td>\n",
       "      <td>...</td>\n",
       "      <td>...</td>\n",
       "    </tr>\n",
       "    <tr>\n",
       "      <th>1048562</th>\n",
       "      <td>M</td>\n",
       "      <td>NEW DELHI</td>\n",
       "      <td>7635.19</td>\n",
       "      <td>799.0</td>\n",
       "    </tr>\n",
       "    <tr>\n",
       "      <th>1048563</th>\n",
       "      <td>M</td>\n",
       "      <td>NASHIK</td>\n",
       "      <td>27311.42</td>\n",
       "      <td>460.0</td>\n",
       "    </tr>\n",
       "    <tr>\n",
       "      <th>1048564</th>\n",
       "      <td>M</td>\n",
       "      <td>HYDERABAD</td>\n",
       "      <td>221757.06</td>\n",
       "      <td>770.0</td>\n",
       "    </tr>\n",
       "    <tr>\n",
       "      <th>1048565</th>\n",
       "      <td>M</td>\n",
       "      <td>VISAKHAPATNAM</td>\n",
       "      <td>10117.87</td>\n",
       "      <td>1000.0</td>\n",
       "    </tr>\n",
       "    <tr>\n",
       "      <th>1048566</th>\n",
       "      <td>M</td>\n",
       "      <td>PUNE</td>\n",
       "      <td>75734.42</td>\n",
       "      <td>1166.0</td>\n",
       "    </tr>\n",
       "  </tbody>\n",
       "</table>\n",
       "<p>1041614 rows × 4 columns</p>\n",
       "</div>"
      ],
      "text/plain": [
       "        CustGender   CustLocation  CustAccountBalance  TransactionAmount (INR)\n",
       "0                F     JAMSHEDPUR            17819.05                     25.0\n",
       "1                M        JHAJJAR             2270.69                  27999.0\n",
       "2                F         MUMBAI            17874.44                    459.0\n",
       "3                F         MUMBAI           866503.21                   2060.0\n",
       "4                F    NAVI MUMBAI             6714.43                   1762.5\n",
       "...            ...            ...                 ...                      ...\n",
       "1048562          M      NEW DELHI             7635.19                    799.0\n",
       "1048563          M         NASHIK            27311.42                    460.0\n",
       "1048564          M      HYDERABAD           221757.06                    770.0\n",
       "1048565          M  VISAKHAPATNAM            10117.87                   1000.0\n",
       "1048566          M           PUNE            75734.42                   1166.0\n",
       "\n",
       "[1041614 rows x 4 columns]"
      ]
     },
     "execution_count": 10,
     "metadata": {},
     "output_type": "execute_result"
    }
   ],
   "source": [
    "df = df.drop(['TransactionID','CustomerID','CustomerDOB','TransactionDate','TransactionTime'],axis=1)\n",
    "df"
   ]
  },
  {
   "cell_type": "raw",
   "id": "849eab41",
   "metadata": {},
   "source": [
    "# PIE CHART FOR BETTER VISUALIZATION BETWEEN THE RELATED VARIABLES"
   ]
  },
  {
   "cell_type": "code",
   "execution_count": 11,
   "id": "3ff31494",
   "metadata": {},
   "outputs": [
    {
     "name": "stderr",
     "output_type": "stream",
     "text": [
      "C:\\Users\\reena\\AppData\\Local\\Temp\\ipykernel_13668\\2655641520.py:1: FutureWarning: The default value of numeric_only in DataFrameGroupBy.sum is deprecated. In a future version, numeric_only will default to False. Either specify numeric_only or select only columns which should be valid for the function.\n",
      "  df.groupby(df['CustGender']).sum().plot(kind='pie', y='TransactionAmount (INR)')\n"
     ]
    },
    {
     "data": {
      "text/plain": [
       "<Axes: ylabel='TransactionAmount (INR)'>"
      ]
     },
     "execution_count": 11,
     "metadata": {},
     "output_type": "execute_result"
    },
    {
     "data": {
      "image/png": "[encoded data removed]",
      "text/plain": [
       "<Figure size 640x480 with 1 Axes>"
      ]
     },
     "metadata": {},
     "output_type": "display_data"
    }
   ],
   "source": [
    "df.groupby(df['CustGender']).sum().plot(kind='pie', y='TransactionAmount (INR)')"
   ]
  },
  {
   "cell_type": "raw",
   "id": "6943d9b8",
   "metadata": {},
   "source": [
    "#TYPES OF DATA BY USING DATA TYPE FUNCTION ,DATA CAN BE OBJECTIVE AND CATEGORICAL.\n",
    "#NEED TO CONVERT ALL CATEGORICAL OR OBJECTIVE DATA INTO INTEGER BY THE HELP OF LABELENCODER."
   ]
  },
  {
   "cell_type": "code",
   "execution_count": 12,
   "id": "e22d5bec",
   "metadata": {},
   "outputs": [
    {
     "data": {
      "text/plain": [
       "CustGender                  object\n",
       "CustLocation                object\n",
       "CustAccountBalance         float64\n",
       "TransactionAmount (INR)    float64\n",
       "dtype: object"
      ]
     },
     "execution_count": 12,
     "metadata": {},
     "output_type": "execute_result"
    }
   ],
   "source": [
    "df.dtypes"
   ]
  },
  {
   "cell_type": "code",
   "execution_count": 13,
   "id": "209c06fa",
   "metadata": {},
   "outputs": [
    {
     "data": {
      "text/html": [
       "<div>\n",
       "<style scoped>\n",
       "    .dataframe tbody tr th:only-of-type {\n",
       "        vertical-align: middle;\n",
       "    }\n",
       "\n",
       "    .dataframe tbody tr th {\n",
       "        vertical-align: top;\n",
       "    }\n",
       "\n",
       "    .dataframe thead th {\n",
       "        text-align: right;\n",
       "    }\n",
       "</style>\n",
       "<table border=\"1\" class=\"dataframe\">\n",
       "  <thead>\n",
       "    <tr style=\"text-align: right;\">\n",
       "      <th></th>\n",
       "      <th>CustGender</th>\n",
       "      <th>CustLocation</th>\n",
       "      <th>CustAccountBalance</th>\n",
       "      <th>TransactionAmount (INR)</th>\n",
       "    </tr>\n",
       "  </thead>\n",
       "  <tbody>\n",
       "    <tr>\n",
       "      <th>0</th>\n",
       "      <td>0</td>\n",
       "      <td>3557</td>\n",
       "      <td>17819.05</td>\n",
       "      <td>25.0</td>\n",
       "    </tr>\n",
       "    <tr>\n",
       "      <th>1</th>\n",
       "      <td>1</td>\n",
       "      <td>3618</td>\n",
       "      <td>2270.69</td>\n",
       "      <td>27999.0</td>\n",
       "    </tr>\n",
       "    <tr>\n",
       "      <th>2</th>\n",
       "      <td>0</td>\n",
       "      <td>5219</td>\n",
       "      <td>17874.44</td>\n",
       "      <td>459.0</td>\n",
       "    </tr>\n",
       "    <tr>\n",
       "      <th>3</th>\n",
       "      <td>0</td>\n",
       "      <td>5219</td>\n",
       "      <td>866503.21</td>\n",
       "      <td>2060.0</td>\n",
       "    </tr>\n",
       "    <tr>\n",
       "      <th>4</th>\n",
       "      <td>0</td>\n",
       "      <td>5606</td>\n",
       "      <td>6714.43</td>\n",
       "      <td>1762.5</td>\n",
       "    </tr>\n",
       "  </tbody>\n",
       "</table>\n",
       "</div>"
      ],
      "text/plain": [
       "   CustGender  CustLocation  CustAccountBalance  TransactionAmount (INR)\n",
       "0           0          3557            17819.05                     25.0\n",
       "1           1          3618             2270.69                  27999.0\n",
       "2           0          5219            17874.44                    459.0\n",
       "3           0          5219           866503.21                   2060.0\n",
       "4           0          5606             6714.43                   1762.5"
      ]
     },
     "execution_count": 13,
     "metadata": {},
     "output_type": "execute_result"
    }
   ],
   "source": [
    "le = preprocessing.LabelEncoder()\n",
    "\n",
    "  \n",
    "df['CustGender']= le.fit_transform(df['CustGender'])\n",
    "df['CustLocation']= le.fit_transform(df['CustLocation'])\n",
    "df.head()"
   ]
  },
  {
   "cell_type": "raw",
   "id": "d1b281c4",
   "metadata": {},
   "source": [
    "#COLLECT ALL COLUMN NAMES"
   ]
  },
  {
   "cell_type": "code",
   "execution_count": 14,
   "id": "a3160b00",
   "metadata": {},
   "outputs": [
    {
     "data": {
      "text/plain": [
       "Index(['CustGender', 'CustLocation', 'CustAccountBalance',\n",
       "       'TransactionAmount (INR)'],\n",
       "      dtype='object')"
      ]
     },
     "execution_count": 14,
     "metadata": {},
     "output_type": "execute_result"
    }
   ],
   "source": [
    "df.columns"
   ]
  },
  {
   "cell_type": "code",
   "execution_count": 15,
   "id": "dfd8861c",
   "metadata": {},
   "outputs": [],
   "source": [
    "columns_names=['CustGender','CustLocation','CustAccountBalance','TransactionAmount (INR)',]"
   ]
  },
  {
   "cell_type": "code",
   "execution_count": 16,
   "id": "f59521e4",
   "metadata": {},
   "outputs": [
    {
     "data": {
      "text/html": [
       "<div>\n",
       "<style scoped>\n",
       "    .dataframe tbody tr th:only-of-type {\n",
       "        vertical-align: middle;\n",
       "    }\n",
       "\n",
       "    .dataframe tbody tr th {\n",
       "        vertical-align: top;\n",
       "    }\n",
       "\n",
       "    .dataframe thead th {\n",
       "        text-align: right;\n",
       "    }\n",
       "</style>\n",
       "<table border=\"1\" class=\"dataframe\">\n",
       "  <thead>\n",
       "    <tr style=\"text-align: right;\">\n",
       "      <th></th>\n",
       "      <th>count</th>\n",
       "      <th>mean</th>\n",
       "      <th>std</th>\n",
       "      <th>min</th>\n",
       "      <th>25%</th>\n",
       "      <th>50%</th>\n",
       "      <th>75%</th>\n",
       "      <th>max</th>\n",
       "    </tr>\n",
       "  </thead>\n",
       "  <tbody>\n",
       "    <tr>\n",
       "      <th>CustGender</th>\n",
       "      <td>1041614.0</td>\n",
       "      <td>0.730578</td>\n",
       "      <td>0.443662</td>\n",
       "      <td>0.0</td>\n",
       "      <td>0.00</td>\n",
       "      <td>1.00</td>\n",
       "      <td>1.00</td>\n",
       "      <td>2.000000e+00</td>\n",
       "    </tr>\n",
       "    <tr>\n",
       "      <th>CustLocation</th>\n",
       "      <td>1041614.0</td>\n",
       "      <td>4085.712415</td>\n",
       "      <td>2363.229131</td>\n",
       "      <td>0.0</td>\n",
       "      <td>2055.00</td>\n",
       "      <td>4086.00</td>\n",
       "      <td>5738.00</td>\n",
       "      <td>9.274000e+03</td>\n",
       "    </tr>\n",
       "    <tr>\n",
       "      <th>CustAccountBalance</th>\n",
       "      <td>1041614.0</td>\n",
       "      <td>114998.605283</td>\n",
       "      <td>846760.940316</td>\n",
       "      <td>0.0</td>\n",
       "      <td>4728.14</td>\n",
       "      <td>16768.52</td>\n",
       "      <td>57428.85</td>\n",
       "      <td>1.150355e+08</td>\n",
       "    </tr>\n",
       "    <tr>\n",
       "      <th>TransactionAmount (INR)</th>\n",
       "      <td>1041614.0</td>\n",
       "      <td>1566.096079</td>\n",
       "      <td>6561.464373</td>\n",
       "      <td>0.0</td>\n",
       "      <td>160.00</td>\n",
       "      <td>457.50</td>\n",
       "      <td>1200.00</td>\n",
       "      <td>1.560035e+06</td>\n",
       "    </tr>\n",
       "  </tbody>\n",
       "</table>\n",
       "</div>"
      ],
      "text/plain": [
       "                             count           mean            std  min  \\\n",
       "CustGender               1041614.0       0.730578       0.443662  0.0   \n",
       "CustLocation             1041614.0    4085.712415    2363.229131  0.0   \n",
       "CustAccountBalance       1041614.0  114998.605283  846760.940316  0.0   \n",
       "TransactionAmount (INR)  1041614.0    1566.096079    6561.464373  0.0   \n",
       "\n",
       "                             25%       50%       75%           max  \n",
       "CustGender                  0.00      1.00      1.00  2.000000e+00  \n",
       "CustLocation             2055.00   4086.00   5738.00  9.274000e+03  \n",
       "CustAccountBalance       4728.14  16768.52  57428.85  1.150355e+08  \n",
       "TransactionAmount (INR)   160.00    457.50   1200.00  1.560035e+06  "
      ]
     },
     "execution_count": 16,
     "metadata": {},
     "output_type": "execute_result"
    }
   ],
   "source": [
    "df[columns_names].describe().T"
   ]
  },
  {
   "cell_type": "raw",
   "id": "91463b1f",
   "metadata": {},
   "source": [
    "#count unique values"
   ]
  },
  {
   "cell_type": "code",
   "execution_count": 17,
   "id": "8213d2df",
   "metadata": {},
   "outputs": [
    {
     "data": {
      "text/plain": [
       "CustGender                 820\n",
       "CustLocation               820\n",
       "CustAccountBalance         820\n",
       "TransactionAmount (INR)    820\n",
       "dtype: int64"
      ]
     },
     "execution_count": 17,
     "metadata": {},
     "output_type": "execute_result"
    }
   ],
   "source": [
    "df[df['TransactionAmount (INR)'] == 0].count()"
   ]
  },
  {
   "cell_type": "code",
   "execution_count": 18,
   "id": "097e9f57",
   "metadata": {},
   "outputs": [],
   "source": [
    "df = df.drop(df[df['TransactionAmount (INR)'] == 0].index,axis = 0)"
   ]
  },
  {
   "cell_type": "code",
   "execution_count": 19,
   "id": "54f6e28a",
   "metadata": {},
   "outputs": [
    {
     "data": {
      "text/plain": [
       "CustGender                 0\n",
       "CustLocation               0\n",
       "CustAccountBalance         0\n",
       "TransactionAmount (INR)    0\n",
       "dtype: int64"
      ]
     },
     "execution_count": 19,
     "metadata": {},
     "output_type": "execute_result"
    }
   ],
   "source": [
    "df[df['TransactionAmount (INR)'] == 0].count()"
   ]
  },
  {
   "cell_type": "code",
   "execution_count": 20,
   "id": "0b91e002",
   "metadata": {},
   "outputs": [
    {
     "data": {
      "text/plain": [
       "5219    101918\n",
       "5738     84057\n",
       "770      81254\n",
       "3058     73521\n",
       "2055     70470\n",
       "         ...  \n",
       "1840         1\n",
       "4225         1\n",
       "9124         1\n",
       "6840         1\n",
       "3403         1\n",
       "Name: CustLocation, Length: 9271, dtype: int64"
      ]
     },
     "execution_count": 20,
     "metadata": {},
     "output_type": "execute_result"
    }
   ],
   "source": [
    "df['CustLocation'].value_counts()"
   ]
  },
  {
   "cell_type": "raw",
   "id": "e49567d9",
   "metadata": {},
   "source": [
    "# histogram plot is used only when variable is single continuous."
   ]
  },
  {
   "cell_type": "code",
   "execution_count": 21,
   "id": "93c7d1a0",
   "metadata": {},
   "outputs": [
    {
     "data": {
      "image/png": "[encoded data removed]",
      "text/plain": [
       "<Figure size 640x480 with 1 Axes>"
      ]
     },
     "metadata": {},
     "output_type": "display_data"
    },
    {
     "data": {
      "image/png": "[encoded data removed]",
      "text/plain": [
       "<Figure size 640x480 with 1 Axes>"
      ]
     },
     "metadata": {},
     "output_type": "display_data"
    },
    {
     "data": {
      "image/png": "[encoded data removed]",
      "text/plain": [
       "<Figure size 640x480 with 1 Axes>"
      ]
     },
     "metadata": {},
     "output_type": "display_data"
    },
    {
     "data": {
      "image/png": "[encoded data removed]",
      "text/plain": [
       "<Figure size 640x480 with 1 Axes>"
      ]
     },
     "metadata": {},
     "output_type": "display_data"
    }
   ],
   "source": [
    "for i in columns_names:\n",
    "    plt.hist(df[i], color='Red', edgecolor='black', linewidth=3)\n",
    "    plt.title(i)\n",
    "    plt.show()\n",
    "    "
   ]
  },
  {
   "cell_type": "raw",
   "id": "80f80643",
   "metadata": {},
   "source": [
    "#BOX PLOT IS USED TO VISUALIZED THE DISTRIBUTION OF SIMPLE CONTINUOUS VARIABLE,ITS MOSTLY USED FOR DETECTING OUTLIERS IN THE DATA SET.\n",
    "#BOX PLOT OF INDIVIDUAL VARIABLE SHOULD BE PLOTED INSTEAD OF THE WHOLE DATA FRAME "
   ]
  },
  {
   "cell_type": "code",
   "execution_count": 22,
   "id": "71221f92",
   "metadata": {},
   "outputs": [
    {
     "data": {
      "image/png": "[encoded data removed]",
      "text/plain": [
       "<Figure size 640x480 with 1 Axes>"
      ]
     },
     "metadata": {},
     "output_type": "display_data"
    },
    {
     "data": {
      "image/png": "[encoded data removed]",
      "text/plain": [
       "<Figure size 640x480 with 1 Axes>"
      ]
     },
     "metadata": {},
     "output_type": "display_data"
    },
    {
     "data": {
      "image/png": "[encoded data removed]",
      "text/plain": [
       "<Figure size 640x480 with 1 Axes>"
      ]
     },
     "metadata": {},
     "output_type": "display_data"
    },
    {
     "data": {
      "image/png": "[encoded data removed]",
      "text/plain": [
       "<Figure size 640x480 with 1 Axes>"
      ]
     },
     "metadata": {},
     "output_type": "display_data"
    }
   ],
   "source": [
    "for i in columns_names:\n",
    "        sns.boxplot(y=df[i])\n",
    "        plt.title('Boxplot')\n",
    "        plt.show()"
   ]
  },
  {
   "cell_type": "raw",
   "id": "cc5f39dc",
   "metadata": {},
   "source": [
    "#STANDERED SCALER USES FOR CONVERT ALL NUMERIC VALUES IN A PARTICULAR RANGE LIKE +3 TO -3 ,-9 TO +9 ,IF DATA IS HIGHLY SPREADED THEN +12 TO -12 FOR CONVERTING VALUES IN THIS RANGES WHERE ALL VALUES CAN NOT DOMINANT."
   ]
  },
  {
   "cell_type": "code",
   "execution_count": 23,
   "id": "61aa54e7",
   "metadata": {},
   "outputs": [
    {
     "data": {
      "text/html": [
       "<div>\n",
       "<style scoped>\n",
       "    .dataframe tbody tr th:only-of-type {\n",
       "        vertical-align: middle;\n",
       "    }\n",
       "\n",
       "    .dataframe tbody tr th {\n",
       "        vertical-align: top;\n",
       "    }\n",
       "\n",
       "    .dataframe thead th {\n",
       "        text-align: right;\n",
       "    }\n",
       "</style>\n",
       "<table border=\"1\" class=\"dataframe\">\n",
       "  <thead>\n",
       "    <tr style=\"text-align: right;\">\n",
       "      <th></th>\n",
       "      <th>CustGender</th>\n",
       "      <th>CustLocation</th>\n",
       "      <th>CustAccountBalance</th>\n",
       "      <th>TransactionAmount (INR)</th>\n",
       "    </tr>\n",
       "  </thead>\n",
       "  <tbody>\n",
       "    <tr>\n",
       "      <th>0</th>\n",
       "      <td>-1.646423</td>\n",
       "      <td>-0.223737</td>\n",
       "      <td>-0.114717</td>\n",
       "      <td>-0.234972</td>\n",
       "    </tr>\n",
       "    <tr>\n",
       "      <th>1</th>\n",
       "      <td>0.607372</td>\n",
       "      <td>-0.197926</td>\n",
       "      <td>-0.133086</td>\n",
       "      <td>4.026825</td>\n",
       "    </tr>\n",
       "    <tr>\n",
       "      <th>2</th>\n",
       "      <td>-1.646423</td>\n",
       "      <td>0.479513</td>\n",
       "      <td>-0.114652</td>\n",
       "      <td>-0.168852</td>\n",
       "    </tr>\n",
       "    <tr>\n",
       "      <th>3</th>\n",
       "      <td>-1.646423</td>\n",
       "      <td>0.479513</td>\n",
       "      <td>0.887938</td>\n",
       "      <td>0.075058</td>\n",
       "    </tr>\n",
       "    <tr>\n",
       "      <th>4</th>\n",
       "      <td>-1.646423</td>\n",
       "      <td>0.643266</td>\n",
       "      <td>-0.127836</td>\n",
       "      <td>0.029734</td>\n",
       "    </tr>\n",
       "  </tbody>\n",
       "</table>\n",
       "</div>"
      ],
      "text/plain": [
       "   CustGender  CustLocation  CustAccountBalance  TransactionAmount (INR)\n",
       "0   -1.646423     -0.223737           -0.114717                -0.234972\n",
       "1    0.607372     -0.197926           -0.133086                 4.026825\n",
       "2   -1.646423      0.479513           -0.114652                -0.168852\n",
       "3   -1.646423      0.479513            0.887938                 0.075058\n",
       "4   -1.646423      0.643266           -0.127836                 0.029734"
      ]
     },
     "execution_count": 23,
     "metadata": {},
     "output_type": "execute_result"
    }
   ],
   "source": [
    "s = StandardScaler()\n",
    "df = s.fit_transform(df)\n",
    "df = pd.DataFrame(df,columns=columns_names)\n",
    "df.head()"
   ]
  },
  {
   "cell_type": "raw",
   "id": "1c612754",
   "metadata": {},
   "source": [
    "# SCATER PLOT FOR HOW MUCH DATA IS DISTRUBED"
   ]
  },
  {
   "cell_type": "code",
   "execution_count": 24,
   "id": "22b27bea",
   "metadata": {},
   "outputs": [
    {
     "data": {
      "text/plain": [
       "<matplotlib.collections.PathCollection at 0x2213638c0a0>"
      ]
     },
     "execution_count": 24,
     "metadata": {},
     "output_type": "execute_result"
    },
    {
     "data": {
      "image/png": "[encoded data removed]",
      "text/plain": [
       "<Figure size 640x480 with 1 Axes>"
      ]
     },
     "metadata": {},
     "output_type": "display_data"
    }
   ],
   "source": [
    "plt.scatter(df['CustLocation'], df['TransactionAmount (INR)'])"
   ]
  },
  {
   "cell_type": "markdown",
   "id": "4b771f96",
   "metadata": {},
   "source": [
    "# .4 TRAIN-TEST SPLIT"
   ]
  },
  {
   "cell_type": "raw",
   "id": "659d95cd",
   "metadata": {},
   "source": [
    "# IN UN SUPERWISED ALGORYTHEM HAVE UNLABLED DATA THAT MEANS X(INDEPENDENT VARIABLES),Y (DEPENDENT VARIABLE ) IS NOT GIVEN .\n",
    "#ITS MOSTLY USE FOR CUSTOMER SEGMENTATION ."
   ]
  },
  {
   "cell_type": "code",
   "execution_count": 25,
   "id": "9af6107e",
   "metadata": {},
   "outputs": [
    {
     "name": "stdout",
     "output_type": "stream",
     "text": [
      "<class 'pandas.core.frame.DataFrame'>\n",
      "RangeIndex: 1040794 entries, 0 to 1040793\n",
      "Data columns (total 4 columns):\n",
      " #   Column                   Non-Null Count    Dtype  \n",
      "---  ------                   --------------    -----  \n",
      " 0   CustGender               1040794 non-null  float64\n",
      " 1   CustLocation             1040794 non-null  float64\n",
      " 2   CustAccountBalance       1040794 non-null  float64\n",
      " 3   TransactionAmount (INR)  1040794 non-null  float64\n",
      "dtypes: float64(4)\n",
      "memory usage: 31.8 MB\n"
     ]
    }
   ],
   "source": [
    "df.info()"
   ]
  },
  {
   "cell_type": "code",
   "execution_count": 26,
   "id": "252028af",
   "metadata": {},
   "outputs": [],
   "source": [
    "X=df.values[:,[2,3]]\n"
   ]
  },
  {
   "cell_type": "code",
   "execution_count": 27,
   "id": "ab1badd9",
   "metadata": {},
   "outputs": [
    {
     "data": {
      "text/plain": [
       "array([[-0.11471719, -0.23497164],\n",
       "       [-0.13308638,  4.02682513],\n",
       "       [-0.11465175, -0.1688524 ],\n",
       "       ...,\n",
       "       [ 0.12621979, -0.12147202],\n",
       "       [-0.12381554, -0.08643186],\n",
       "       [-0.04629466, -0.06114201]])"
      ]
     },
     "execution_count": 27,
     "metadata": {},
     "output_type": "execute_result"
    }
   ],
   "source": [
    "X"
   ]
  },
  {
   "cell_type": "markdown",
   "id": "97ddaeaf",
   "metadata": {},
   "source": [
    "# 5.BUILDING THE MODEL"
   ]
  },
  {
   "cell_type": "markdown",
   "id": "ae1c1162",
   "metadata": {},
   "source": [
    "# K-MEANS CLUSTERING OR Centroid-based clustering"
   ]
  },
  {
   "cell_type": "markdown",
   "id": "48463dca",
   "metadata": {},
   "source": [
    "# K-Means algorithm \n",
    "1.Select the number of clusters\n",
    "2.K Initialize the K centroids \n",
    "3.Assign each data point to their closest centroid 4.For each cluster calculate the average of its assigned examples and let it the new position for that centroid\n",
    "4.Reassign each data example to the new closest centroid of each cluster \n",
    "5Update the centroid position The model is ready"
   ]
  },
  {
   "cell_type": "code",
   "execution_count": 28,
   "id": "9f2c1e14",
   "metadata": {},
   "outputs": [
    {
     "name": "stderr",
     "output_type": "stream",
     "text": [
      "C:\\Users\\reena\\AppData\\Local\\anaconda3\\lib\\site-packages\\sklearn\\cluster\\_kmeans.py:870: FutureWarning: The default value of `n_init` will change from 10 to 'auto' in 1.4. Set the value of `n_init` explicitly to suppress the warning\n",
      "  warnings.warn(\n",
      "C:\\Users\\reena\\AppData\\Local\\anaconda3\\lib\\site-packages\\sklearn\\cluster\\_kmeans.py:870: FutureWarning: The default value of `n_init` will change from 10 to 'auto' in 1.4. Set the value of `n_init` explicitly to suppress the warning\n",
      "  warnings.warn(\n",
      "C:\\Users\\reena\\AppData\\Local\\anaconda3\\lib\\site-packages\\sklearn\\cluster\\_kmeans.py:870: FutureWarning: The default value of `n_init` will change from 10 to 'auto' in 1.4. Set the value of `n_init` explicitly to suppress the warning\n",
      "  warnings.warn(\n",
      "C:\\Users\\reena\\AppData\\Local\\anaconda3\\lib\\site-packages\\sklearn\\cluster\\_kmeans.py:870: FutureWarning: The default value of `n_init` will change from 10 to 'auto' in 1.4. Set the value of `n_init` explicitly to suppress the warning\n",
      "  warnings.warn(\n",
      "C:\\Users\\reena\\AppData\\Local\\anaconda3\\lib\\site-packages\\sklearn\\cluster\\_kmeans.py:870: FutureWarning: The default value of `n_init` will change from 10 to 'auto' in 1.4. Set the value of `n_init` explicitly to suppress the warning\n",
      "  warnings.warn(\n",
      "C:\\Users\\reena\\AppData\\Local\\anaconda3\\lib\\site-packages\\sklearn\\cluster\\_kmeans.py:870: FutureWarning: The default value of `n_init` will change from 10 to 'auto' in 1.4. Set the value of `n_init` explicitly to suppress the warning\n",
      "  warnings.warn(\n",
      "C:\\Users\\reena\\AppData\\Local\\anaconda3\\lib\\site-packages\\sklearn\\cluster\\_kmeans.py:870: FutureWarning: The default value of `n_init` will change from 10 to 'auto' in 1.4. Set the value of `n_init` explicitly to suppress the warning\n",
      "  warnings.warn(\n",
      "C:\\Users\\reena\\AppData\\Local\\anaconda3\\lib\\site-packages\\sklearn\\cluster\\_kmeans.py:870: FutureWarning: The default value of `n_init` will change from 10 to 'auto' in 1.4. Set the value of `n_init` explicitly to suppress the warning\n",
      "  warnings.warn(\n",
      "C:\\Users\\reena\\AppData\\Local\\anaconda3\\lib\\site-packages\\sklearn\\cluster\\_kmeans.py:870: FutureWarning: The default value of `n_init` will change from 10 to 'auto' in 1.4. Set the value of `n_init` explicitly to suppress the warning\n",
      "  warnings.warn(\n",
      "C:\\Users\\reena\\AppData\\Local\\anaconda3\\lib\\site-packages\\sklearn\\cluster\\_kmeans.py:870: FutureWarning: The default value of `n_init` will change from 10 to 'auto' in 1.4. Set the value of `n_init` explicitly to suppress the warning\n",
      "  warnings.warn(\n"
     ]
    },
    {
     "data": {
      "image/png": "[encoded data removed]",
      "text/plain": [
       "<Figure size 640x480 with 1 Axes>"
      ]
     },
     "metadata": {},
     "output_type": "display_data"
    }
   ],
   "source": [
    "# Using the elbow method to find the optimal number of clusters\n",
    "from sklearn.cluster import KMeans\n",
    "\n",
    "wsse = []###within the sum of square errors\n",
    "for i in range(1, 11):\n",
    "    kmeans = KMeans(n_clusters = i,  random_state = 10)\n",
    "    kmeans.fit(X)\n",
    "    wsse.append(kmeans.inertia_)\n",
    "plt.plot(range(1, 11), wsse)\n",
    "plt.title('The Elbow Method')\n",
    "plt.xlim(1,10)\n",
    "plt.xlabel('Number of clusters')\n",
    "plt.ylabel('WSSE')\n",
    "plt.show()"
   ]
  },
  {
   "cell_type": "code",
   "execution_count": 29,
   "id": "ad334926",
   "metadata": {},
   "outputs": [
    {
     "name": "stdout",
     "output_type": "stream",
     "text": [
      "[2081588.0000000065, 1522722.6835914003, 1032932.7101312828, 835829.9177088459, 647843.5420122342, 503891.4027780642, 402137.77331908076, 334250.48980447726, 279085.87058302504, 232469.8419723386]\n"
     ]
    }
   ],
   "source": [
    "print(wsse)\n"
   ]
  },
  {
   "cell_type": "code",
   "execution_count": 30,
   "id": "691c752a",
   "metadata": {},
   "outputs": [
    {
     "name": "stderr",
     "output_type": "stream",
     "text": [
      "C:\\Users\\reena\\AppData\\Local\\anaconda3\\lib\\site-packages\\sklearn\\cluster\\_kmeans.py:870: FutureWarning: The default value of `n_init` will change from 10 to 'auto' in 1.4. Set the value of `n_init` explicitly to suppress the warning\n",
      "  warnings.warn(\n"
     ]
    }
   ],
   "source": [
    "kmeans=KMeans(n_clusters= 6, random_state=10)\n",
    "\n",
    "Y_pred= kmeans.fit_predict(X)\n"
   ]
  },
  {
   "cell_type": "markdown",
   "id": "ad1590ed",
   "metadata": {},
   "source": [
    "# Y PREDUCTION "
   ]
  },
  {
   "cell_type": "code",
   "execution_count": 31,
   "id": "7dd79c20",
   "metadata": {},
   "outputs": [
    {
     "data": {
      "text/plain": [
       "array([0, 2, 0, ..., 0, 0, 0])"
      ]
     },
     "execution_count": 31,
     "metadata": {},
     "output_type": "execute_result"
    }
   ],
   "source": [
    "Y_pred"
   ]
  },
  {
   "cell_type": "code",
   "execution_count": 32,
   "id": "a234f4ab",
   "metadata": {},
   "outputs": [
    {
     "data": {
      "text/plain": [
       "503891.4027780642"
      ]
     },
     "execution_count": 32,
     "metadata": {},
     "output_type": "execute_result"
    }
   ],
   "source": [
    "kmeans.inertia_"
   ]
  },
  {
   "cell_type": "code",
   "execution_count": 33,
   "id": "af379dcf",
   "metadata": {},
   "outputs": [
    {
     "data": {
      "text/plain": [
       "11"
      ]
     },
     "execution_count": 33,
     "metadata": {},
     "output_type": "execute_result"
    }
   ],
   "source": [
    "kmeans.n_iter_"
   ]
  },
  {
   "cell_type": "code",
   "execution_count": 34,
   "id": "e3b2ef7e",
   "metadata": {},
   "outputs": [
    {
     "data": {
      "text/html": [
       "<div>\n",
       "<style scoped>\n",
       "    .dataframe tbody tr th:only-of-type {\n",
       "        vertical-align: middle;\n",
       "    }\n",
       "\n",
       "    .dataframe tbody tr th {\n",
       "        vertical-align: top;\n",
       "    }\n",
       "\n",
       "    .dataframe thead th {\n",
       "        text-align: right;\n",
       "    }\n",
       "</style>\n",
       "<table border=\"1\" class=\"dataframe\">\n",
       "  <thead>\n",
       "    <tr style=\"text-align: right;\">\n",
       "      <th></th>\n",
       "      <th>CustGender</th>\n",
       "      <th>CustLocation</th>\n",
       "      <th>CustAccountBalance</th>\n",
       "      <th>TransactionAmount (INR)</th>\n",
       "      <th>Clusters</th>\n",
       "    </tr>\n",
       "  </thead>\n",
       "  <tbody>\n",
       "    <tr>\n",
       "      <th>0</th>\n",
       "      <td>-1.646423</td>\n",
       "      <td>-0.223737</td>\n",
       "      <td>-0.114717</td>\n",
       "      <td>-0.234972</td>\n",
       "      <td>0</td>\n",
       "    </tr>\n",
       "    <tr>\n",
       "      <th>1</th>\n",
       "      <td>0.607372</td>\n",
       "      <td>-0.197926</td>\n",
       "      <td>-0.133086</td>\n",
       "      <td>4.026825</td>\n",
       "      <td>2</td>\n",
       "    </tr>\n",
       "    <tr>\n",
       "      <th>2</th>\n",
       "      <td>-1.646423</td>\n",
       "      <td>0.479513</td>\n",
       "      <td>-0.114652</td>\n",
       "      <td>-0.168852</td>\n",
       "      <td>0</td>\n",
       "    </tr>\n",
       "    <tr>\n",
       "      <th>3</th>\n",
       "      <td>-1.646423</td>\n",
       "      <td>0.479513</td>\n",
       "      <td>0.887938</td>\n",
       "      <td>0.075058</td>\n",
       "      <td>0</td>\n",
       "    </tr>\n",
       "    <tr>\n",
       "      <th>4</th>\n",
       "      <td>-1.646423</td>\n",
       "      <td>0.643266</td>\n",
       "      <td>-0.127836</td>\n",
       "      <td>0.029734</td>\n",
       "      <td>0</td>\n",
       "    </tr>\n",
       "    <tr>\n",
       "      <th>...</th>\n",
       "      <td>...</td>\n",
       "      <td>...</td>\n",
       "      <td>...</td>\n",
       "      <td>...</td>\n",
       "      <td>...</td>\n",
       "    </tr>\n",
       "    <tr>\n",
       "      <th>1040789</th>\n",
       "      <td>0.607372</td>\n",
       "      <td>0.699120</td>\n",
       "      <td>-0.126749</td>\n",
       "      <td>-0.117054</td>\n",
       "      <td>0</td>\n",
       "    </tr>\n",
       "    <tr>\n",
       "      <th>1040790</th>\n",
       "      <td>0.607372</td>\n",
       "      <td>0.632265</td>\n",
       "      <td>-0.103503</td>\n",
       "      <td>-0.168700</td>\n",
       "      <td>0</td>\n",
       "    </tr>\n",
       "    <tr>\n",
       "      <th>1040791</th>\n",
       "      <td>0.607372</td>\n",
       "      <td>-0.304133</td>\n",
       "      <td>0.126220</td>\n",
       "      <td>-0.121472</td>\n",
       "      <td>0</td>\n",
       "    </tr>\n",
       "    <tr>\n",
       "      <th>1040792</th>\n",
       "      <td>0.607372</td>\n",
       "      <td>2.104351</td>\n",
       "      <td>-0.123816</td>\n",
       "      <td>-0.086432</td>\n",
       "      <td>0</td>\n",
       "    </tr>\n",
       "    <tr>\n",
       "      <th>1040793</th>\n",
       "      <td>0.607372</td>\n",
       "      <td>1.087558</td>\n",
       "      <td>-0.046295</td>\n",
       "      <td>-0.061142</td>\n",
       "      <td>0</td>\n",
       "    </tr>\n",
       "  </tbody>\n",
       "</table>\n",
       "<p>1040794 rows × 5 columns</p>\n",
       "</div>"
      ],
      "text/plain": [
       "         CustGender  CustLocation  CustAccountBalance  \\\n",
       "0         -1.646423     -0.223737           -0.114717   \n",
       "1          0.607372     -0.197926           -0.133086   \n",
       "2         -1.646423      0.479513           -0.114652   \n",
       "3         -1.646423      0.479513            0.887938   \n",
       "4         -1.646423      0.643266           -0.127836   \n",
       "...             ...           ...                 ...   \n",
       "1040789    0.607372      0.699120           -0.126749   \n",
       "1040790    0.607372      0.632265           -0.103503   \n",
       "1040791    0.607372     -0.304133            0.126220   \n",
       "1040792    0.607372      2.104351           -0.123816   \n",
       "1040793    0.607372      1.087558           -0.046295   \n",
       "\n",
       "         TransactionAmount (INR)  Clusters  \n",
       "0                      -0.234972         0  \n",
       "1                       4.026825         2  \n",
       "2                      -0.168852         0  \n",
       "3                       0.075058         0  \n",
       "4                       0.029734         0  \n",
       "...                          ...       ...  \n",
       "1040789                -0.117054         0  \n",
       "1040790                -0.168700         0  \n",
       "1040791                -0.121472         0  \n",
       "1040792                -0.086432         0  \n",
       "1040793                -0.061142         0  \n",
       "\n",
       "[1040794 rows x 5 columns]"
      ]
     },
     "execution_count": 34,
     "metadata": {},
     "output_type": "execute_result"
    }
   ],
   "source": [
    "df['Clusters']=Y_pred\n",
    "df"
   ]
  },
  {
   "cell_type": "code",
   "execution_count": 35,
   "id": "1ce5e0e2",
   "metadata": {},
   "outputs": [
    {
     "data": {
      "image/png": "[encoded data removed]",
      "text/plain": [
       "<Figure size 567.486x500 with 1 Axes>"
      ]
     },
     "metadata": {},
     "output_type": "display_data"
    }
   ],
   "source": [
    "sns.lmplot(data=df, x='CustAccountBalance',y='TransactionAmount (INR)',\n",
    "          fit_reg=False, #no regression line\n",
    "          hue='Clusters',palette='Set1')\n",
    "plt.scatter(kmeans.cluster_centers_[:,0], kmeans.cluster_centers_[:,1],\n",
    "           s= 300, c='black')\n",
    "plt.show()"
   ]
  },
  {
   "cell_type": "code",
   "execution_count": 36,
   "id": "4990dcf5",
   "metadata": {},
   "outputs": [
    {
     "data": {
      "text/plain": [
       "array([[-3.52873039e-02, -8.32662600e-02],\n",
       "       [ 6.15225641e+01,  1.09764638e+00],\n",
       "       [ 1.60611243e-01,  3.52602953e+00],\n",
       "       [ 4.73509434e-01,  1.48050752e+01],\n",
       "       [ 2.49982651e+00,  8.56699000e+01],\n",
       "       [ 8.71589737e+00,  3.65114359e-01]])"
      ]
     },
     "execution_count": 36,
     "metadata": {},
     "output_type": "execute_result"
    }
   ],
   "source": [
    "kmeans.cluster_centers_"
   ]
  },
  {
   "cell_type": "code",
   "execution_count": 37,
   "id": "c664d5d7",
   "metadata": {},
   "outputs": [
    {
     "data": {
      "text/html": [
       "<div>\n",
       "<style scoped>\n",
       "    .dataframe tbody tr th:only-of-type {\n",
       "        vertical-align: middle;\n",
       "    }\n",
       "\n",
       "    .dataframe tbody tr th {\n",
       "        vertical-align: top;\n",
       "    }\n",
       "\n",
       "    .dataframe thead th {\n",
       "        text-align: right;\n",
       "    }\n",
       "</style>\n",
       "<table border=\"1\" class=\"dataframe\">\n",
       "  <thead>\n",
       "    <tr style=\"text-align: right;\">\n",
       "      <th></th>\n",
       "      <th>CustGender</th>\n",
       "      <th>CustLocation</th>\n",
       "      <th>CustAccountBalance</th>\n",
       "      <th>TransactionAmount (INR)</th>\n",
       "      <th>Clusters</th>\n",
       "    </tr>\n",
       "  </thead>\n",
       "  <tbody>\n",
       "    <tr>\n",
       "      <th>0</th>\n",
       "      <td>-1.646423</td>\n",
       "      <td>-0.223737</td>\n",
       "      <td>-0.114717</td>\n",
       "      <td>-0.234972</td>\n",
       "      <td>Careless</td>\n",
       "    </tr>\n",
       "    <tr>\n",
       "      <th>1</th>\n",
       "      <td>0.607372</td>\n",
       "      <td>-0.197926</td>\n",
       "      <td>-0.133086</td>\n",
       "      <td>4.026825</td>\n",
       "      <td>Sensible</td>\n",
       "    </tr>\n",
       "    <tr>\n",
       "      <th>2</th>\n",
       "      <td>-1.646423</td>\n",
       "      <td>0.479513</td>\n",
       "      <td>-0.114652</td>\n",
       "      <td>-0.168852</td>\n",
       "      <td>Careless</td>\n",
       "    </tr>\n",
       "    <tr>\n",
       "      <th>3</th>\n",
       "      <td>-1.646423</td>\n",
       "      <td>0.479513</td>\n",
       "      <td>0.887938</td>\n",
       "      <td>0.075058</td>\n",
       "      <td>Careless</td>\n",
       "    </tr>\n",
       "    <tr>\n",
       "      <th>4</th>\n",
       "      <td>-1.646423</td>\n",
       "      <td>0.643266</td>\n",
       "      <td>-0.127836</td>\n",
       "      <td>0.029734</td>\n",
       "      <td>Careless</td>\n",
       "    </tr>\n",
       "    <tr>\n",
       "      <th>...</th>\n",
       "      <td>...</td>\n",
       "      <td>...</td>\n",
       "      <td>...</td>\n",
       "      <td>...</td>\n",
       "      <td>...</td>\n",
       "    </tr>\n",
       "    <tr>\n",
       "      <th>1040789</th>\n",
       "      <td>0.607372</td>\n",
       "      <td>0.699120</td>\n",
       "      <td>-0.126749</td>\n",
       "      <td>-0.117054</td>\n",
       "      <td>Careless</td>\n",
       "    </tr>\n",
       "    <tr>\n",
       "      <th>1040790</th>\n",
       "      <td>0.607372</td>\n",
       "      <td>0.632265</td>\n",
       "      <td>-0.103503</td>\n",
       "      <td>-0.168700</td>\n",
       "      <td>Careless</td>\n",
       "    </tr>\n",
       "    <tr>\n",
       "      <th>1040791</th>\n",
       "      <td>0.607372</td>\n",
       "      <td>-0.304133</td>\n",
       "      <td>0.126220</td>\n",
       "      <td>-0.121472</td>\n",
       "      <td>Careless</td>\n",
       "    </tr>\n",
       "    <tr>\n",
       "      <th>1040792</th>\n",
       "      <td>0.607372</td>\n",
       "      <td>2.104351</td>\n",
       "      <td>-0.123816</td>\n",
       "      <td>-0.086432</td>\n",
       "      <td>Careless</td>\n",
       "    </tr>\n",
       "    <tr>\n",
       "      <th>1040793</th>\n",
       "      <td>0.607372</td>\n",
       "      <td>1.087558</td>\n",
       "      <td>-0.046295</td>\n",
       "      <td>-0.061142</td>\n",
       "      <td>Careless</td>\n",
       "    </tr>\n",
       "  </tbody>\n",
       "</table>\n",
       "<p>1040794 rows × 5 columns</p>\n",
       "</div>"
      ],
      "text/plain": [
       "         CustGender  CustLocation  CustAccountBalance  \\\n",
       "0         -1.646423     -0.223737           -0.114717   \n",
       "1          0.607372     -0.197926           -0.133086   \n",
       "2         -1.646423      0.479513           -0.114652   \n",
       "3         -1.646423      0.479513            0.887938   \n",
       "4         -1.646423      0.643266           -0.127836   \n",
       "...             ...           ...                 ...   \n",
       "1040789    0.607372      0.699120           -0.126749   \n",
       "1040790    0.607372      0.632265           -0.103503   \n",
       "1040791    0.607372     -0.304133            0.126220   \n",
       "1040792    0.607372      2.104351           -0.123816   \n",
       "1040793    0.607372      1.087558           -0.046295   \n",
       "\n",
       "         TransactionAmount (INR)  Clusters  \n",
       "0                      -0.234972  Careless  \n",
       "1                       4.026825  Sensible  \n",
       "2                      -0.168852  Careless  \n",
       "3                       0.075058  Careless  \n",
       "4                       0.029734  Careless  \n",
       "...                          ...       ...  \n",
       "1040789                -0.117054  Careless  \n",
       "1040790                -0.168700  Careless  \n",
       "1040791                -0.121472  Careless  \n",
       "1040792                -0.086432  Careless  \n",
       "1040793                -0.061142  Careless  \n",
       "\n",
       "[1040794 rows x 5 columns]"
      ]
     },
     "execution_count": 37,
     "metadata": {},
     "output_type": "execute_result"
    }
   ],
   "source": [
    "df['Clusters']=df.Clusters.map({0:'Careless',1:'Saving oriented',2:'Sensible',3:'Target',\n",
    "  4:'Active users',5:'Standerd'})\n",
    "\n",
    "\n",
    "df"
   ]
  },
  {
   "cell_type": "code",
   "execution_count": 38,
   "id": "a35e72f0",
   "metadata": {},
   "outputs": [],
   "source": [
    "new_data=df[df['Clusters']=='Target']"
   ]
  },
  {
   "cell_type": "code",
   "execution_count": 39,
   "id": "35e370b6",
   "metadata": {},
   "outputs": [
    {
     "data": {
      "text/plain": [
       "(1726, 5)"
      ]
     },
     "execution_count": 39,
     "metadata": {},
     "output_type": "execute_result"
    }
   ],
   "source": [
    "new_data.shape"
   ]
  },
  {
   "cell_type": "code",
   "execution_count": 40,
   "id": "407accc7",
   "metadata": {},
   "outputs": [
    {
     "data": {
      "text/html": [
       "<div>\n",
       "<style scoped>\n",
       "    .dataframe tbody tr th:only-of-type {\n",
       "        vertical-align: middle;\n",
       "    }\n",
       "\n",
       "    .dataframe tbody tr th {\n",
       "        vertical-align: top;\n",
       "    }\n",
       "\n",
       "    .dataframe thead th {\n",
       "        text-align: right;\n",
       "    }\n",
       "</style>\n",
       "<table border=\"1\" class=\"dataframe\">\n",
       "  <thead>\n",
       "    <tr style=\"text-align: right;\">\n",
       "      <th></th>\n",
       "      <th>CustGender</th>\n",
       "      <th>CustLocation</th>\n",
       "      <th>CustAccountBalance</th>\n",
       "      <th>TransactionAmount (INR)</th>\n",
       "      <th>Clusters</th>\n",
       "    </tr>\n",
       "  </thead>\n",
       "  <tbody>\n",
       "    <tr>\n",
       "      <th>191</th>\n",
       "      <td>0.607372</td>\n",
       "      <td>0.061456</td>\n",
       "      <td>0.021601</td>\n",
       "      <td>14.996069</td>\n",
       "      <td>Target</td>\n",
       "    </tr>\n",
       "    <tr>\n",
       "      <th>204</th>\n",
       "      <td>0.607372</td>\n",
       "      <td>0.739318</td>\n",
       "      <td>2.070196</td>\n",
       "      <td>20.768553</td>\n",
       "      <td>Target</td>\n",
       "    </tr>\n",
       "    <tr>\n",
       "      <th>778</th>\n",
       "      <td>0.607372</td>\n",
       "      <td>-0.314288</td>\n",
       "      <td>-0.096834</td>\n",
       "      <td>14.996069</td>\n",
       "      <td>Target</td>\n",
       "    </tr>\n",
       "    <tr>\n",
       "      <th>884</th>\n",
       "      <td>0.607372</td>\n",
       "      <td>2.136086</td>\n",
       "      <td>-0.122048</td>\n",
       "      <td>14.996069</td>\n",
       "      <td>Target</td>\n",
       "    </tr>\n",
       "    <tr>\n",
       "      <th>901</th>\n",
       "      <td>0.607372</td>\n",
       "      <td>-1.085663</td>\n",
       "      <td>1.738568</td>\n",
       "      <td>14.996069</td>\n",
       "      <td>Target</td>\n",
       "    </tr>\n",
       "    <tr>\n",
       "      <th>...</th>\n",
       "      <td>...</td>\n",
       "      <td>...</td>\n",
       "      <td>...</td>\n",
       "      <td>...</td>\n",
       "      <td>...</td>\n",
       "    </tr>\n",
       "    <tr>\n",
       "      <th>1036997</th>\n",
       "      <td>0.607372</td>\n",
       "      <td>0.061456</td>\n",
       "      <td>0.050108</td>\n",
       "      <td>14.996069</td>\n",
       "      <td>Target</td>\n",
       "    </tr>\n",
       "    <tr>\n",
       "      <th>1039729</th>\n",
       "      <td>0.607372</td>\n",
       "      <td>-0.822896</td>\n",
       "      <td>0.232606</td>\n",
       "      <td>14.996069</td>\n",
       "      <td>Target</td>\n",
       "    </tr>\n",
       "    <tr>\n",
       "      <th>1040292</th>\n",
       "      <td>-1.646423</td>\n",
       "      <td>-1.242646</td>\n",
       "      <td>0.001281</td>\n",
       "      <td>12.299877</td>\n",
       "      <td>Target</td>\n",
       "    </tr>\n",
       "    <tr>\n",
       "      <th>1040300</th>\n",
       "      <td>0.607372</td>\n",
       "      <td>0.061456</td>\n",
       "      <td>0.050108</td>\n",
       "      <td>14.996069</td>\n",
       "      <td>Target</td>\n",
       "    </tr>\n",
       "    <tr>\n",
       "      <th>1040580</th>\n",
       "      <td>0.607372</td>\n",
       "      <td>0.771899</td>\n",
       "      <td>0.504374</td>\n",
       "      <td>9.525235</td>\n",
       "      <td>Target</td>\n",
       "    </tr>\n",
       "  </tbody>\n",
       "</table>\n",
       "<p>1726 rows × 5 columns</p>\n",
       "</div>"
      ],
      "text/plain": [
       "         CustGender  CustLocation  CustAccountBalance  \\\n",
       "191        0.607372      0.061456            0.021601   \n",
       "204        0.607372      0.739318            2.070196   \n",
       "778        0.607372     -0.314288           -0.096834   \n",
       "884        0.607372      2.136086           -0.122048   \n",
       "901        0.607372     -1.085663            1.738568   \n",
       "...             ...           ...                 ...   \n",
       "1036997    0.607372      0.061456            0.050108   \n",
       "1039729    0.607372     -0.822896            0.232606   \n",
       "1040292   -1.646423     -1.242646            0.001281   \n",
       "1040300    0.607372      0.061456            0.050108   \n",
       "1040580    0.607372      0.771899            0.504374   \n",
       "\n",
       "         TransactionAmount (INR) Clusters  \n",
       "191                    14.996069   Target  \n",
       "204                    20.768553   Target  \n",
       "778                    14.996069   Target  \n",
       "884                    14.996069   Target  \n",
       "901                    14.996069   Target  \n",
       "...                          ...      ...  \n",
       "1036997                14.996069   Target  \n",
       "1039729                14.996069   Target  \n",
       "1040292                12.299877   Target  \n",
       "1040300                14.996069   Target  \n",
       "1040580                 9.525235   Target  \n",
       "\n",
       "[1726 rows x 5 columns]"
      ]
     },
     "execution_count": 40,
     "metadata": {},
     "output_type": "execute_result"
    }
   ],
   "source": [
    "new_data"
   ]
  },
  {
   "cell_type": "code",
   "execution_count": 41,
   "id": "3c7eb9b2",
   "metadata": {},
   "outputs": [],
   "source": [
    "new_data.to_csv(r'Target_cstomer transaction original.csv',index=True)"
   ]
  },
  {
   "cell_type": "code",
   "execution_count": 42,
   "id": "cac95939",
   "metadata": {},
   "outputs": [
    {
     "data": {
      "text/html": [
       "<div>\n",
       "<style scoped>\n",
       "    .dataframe tbody tr th:only-of-type {\n",
       "        vertical-align: middle;\n",
       "    }\n",
       "\n",
       "    .dataframe tbody tr th {\n",
       "        vertical-align: top;\n",
       "    }\n",
       "\n",
       "    .dataframe thead th {\n",
       "        text-align: right;\n",
       "    }\n",
       "</style>\n",
       "<table border=\"1\" class=\"dataframe\">\n",
       "  <thead>\n",
       "    <tr style=\"text-align: right;\">\n",
       "      <th></th>\n",
       "      <th>CustGender</th>\n",
       "      <th>CustLocation</th>\n",
       "      <th>CustAccountBalance</th>\n",
       "      <th>TransactionAmount (INR)</th>\n",
       "      <th>Clusters</th>\n",
       "    </tr>\n",
       "  </thead>\n",
       "  <tbody>\n",
       "    <tr>\n",
       "      <th>191</th>\n",
       "      <td>0.607372</td>\n",
       "      <td>0.061456</td>\n",
       "      <td>0.021601</td>\n",
       "      <td>14.996069</td>\n",
       "      <td>Target</td>\n",
       "    </tr>\n",
       "    <tr>\n",
       "      <th>204</th>\n",
       "      <td>0.607372</td>\n",
       "      <td>0.739318</td>\n",
       "      <td>2.070196</td>\n",
       "      <td>20.768553</td>\n",
       "      <td>Target</td>\n",
       "    </tr>\n",
       "    <tr>\n",
       "      <th>778</th>\n",
       "      <td>0.607372</td>\n",
       "      <td>-0.314288</td>\n",
       "      <td>-0.096834</td>\n",
       "      <td>14.996069</td>\n",
       "      <td>Target</td>\n",
       "    </tr>\n",
       "    <tr>\n",
       "      <th>884</th>\n",
       "      <td>0.607372</td>\n",
       "      <td>2.136086</td>\n",
       "      <td>-0.122048</td>\n",
       "      <td>14.996069</td>\n",
       "      <td>Target</td>\n",
       "    </tr>\n",
       "    <tr>\n",
       "      <th>901</th>\n",
       "      <td>0.607372</td>\n",
       "      <td>-1.085663</td>\n",
       "      <td>1.738568</td>\n",
       "      <td>14.996069</td>\n",
       "      <td>Target</td>\n",
       "    </tr>\n",
       "    <tr>\n",
       "      <th>...</th>\n",
       "      <td>...</td>\n",
       "      <td>...</td>\n",
       "      <td>...</td>\n",
       "      <td>...</td>\n",
       "      <td>...</td>\n",
       "    </tr>\n",
       "    <tr>\n",
       "      <th>1036997</th>\n",
       "      <td>0.607372</td>\n",
       "      <td>0.061456</td>\n",
       "      <td>0.050108</td>\n",
       "      <td>14.996069</td>\n",
       "      <td>Target</td>\n",
       "    </tr>\n",
       "    <tr>\n",
       "      <th>1039729</th>\n",
       "      <td>0.607372</td>\n",
       "      <td>-0.822896</td>\n",
       "      <td>0.232606</td>\n",
       "      <td>14.996069</td>\n",
       "      <td>Target</td>\n",
       "    </tr>\n",
       "    <tr>\n",
       "      <th>1040292</th>\n",
       "      <td>-1.646423</td>\n",
       "      <td>-1.242646</td>\n",
       "      <td>0.001281</td>\n",
       "      <td>12.299877</td>\n",
       "      <td>Target</td>\n",
       "    </tr>\n",
       "    <tr>\n",
       "      <th>1040300</th>\n",
       "      <td>0.607372</td>\n",
       "      <td>0.061456</td>\n",
       "      <td>0.050108</td>\n",
       "      <td>14.996069</td>\n",
       "      <td>Target</td>\n",
       "    </tr>\n",
       "    <tr>\n",
       "      <th>1040580</th>\n",
       "      <td>0.607372</td>\n",
       "      <td>0.771899</td>\n",
       "      <td>0.504374</td>\n",
       "      <td>9.525235</td>\n",
       "      <td>Target</td>\n",
       "    </tr>\n",
       "  </tbody>\n",
       "</table>\n",
       "<p>1726 rows × 5 columns</p>\n",
       "</div>"
      ],
      "text/plain": [
       "         CustGender  CustLocation  CustAccountBalance  \\\n",
       "191        0.607372      0.061456            0.021601   \n",
       "204        0.607372      0.739318            2.070196   \n",
       "778        0.607372     -0.314288           -0.096834   \n",
       "884        0.607372      2.136086           -0.122048   \n",
       "901        0.607372     -1.085663            1.738568   \n",
       "...             ...           ...                 ...   \n",
       "1036997    0.607372      0.061456            0.050108   \n",
       "1039729    0.607372     -0.822896            0.232606   \n",
       "1040292   -1.646423     -1.242646            0.001281   \n",
       "1040300    0.607372      0.061456            0.050108   \n",
       "1040580    0.607372      0.771899            0.504374   \n",
       "\n",
       "         TransactionAmount (INR) Clusters  \n",
       "191                    14.996069   Target  \n",
       "204                    20.768553   Target  \n",
       "778                    14.996069   Target  \n",
       "884                    14.996069   Target  \n",
       "901                    14.996069   Target  \n",
       "...                          ...      ...  \n",
       "1036997                14.996069   Target  \n",
       "1039729                14.996069   Target  \n",
       "1040292                12.299877   Target  \n",
       "1040300                14.996069   Target  \n",
       "1040580                 9.525235   Target  \n",
       "\n",
       "[1726 rows x 5 columns]"
      ]
     },
     "execution_count": 42,
     "metadata": {},
     "output_type": "execute_result"
    }
   ],
   "source": [
    "new_data"
   ]
  },
  {
   "cell_type": "markdown",
   "id": "f7e1dbb7",
   "metadata": {},
   "source": [
    "# 6.CONCLUSION"
   ]
  },
  {
   "cell_type": "markdown",
   "id": "0782550a",
   "metadata": {},
   "source": [
    "# From the sample of the dataset, we can divide the customers into two main groups.\n",
    "\n",
    "# #The cluster 3 ( Target)\n",
    "represents the customers being around young youth. \n",
    "They spend amount in a moderate form of transaction and \n",
    "they are quality customers for bank products and\n",
    "also they spend alot time in application and \n",
    "possess litle amount in their account after the active transaction.\n",
    "\n",
    "# The cluster 1(saving oriented)\n",
    "represents the customers being around aged person. \n",
    "They spend very less amount in per transaction and\n",
    "spend very few time in application. They possesss large amount in a saving form in their account.\n",
    "They are saving loving person so do not uses application for transaction frequently.\n",
    "\n",
    "# In other words, customers in cluster 4 (Active users)\n",
    "represents the customers being around very young yuth genration. \n",
    "They spend excessive time over the applicaion and huge amount  amount in per transaction and\n",
    " They possesss very very little amount  in a saving form in their account.\n",
    "They are careless person so they  uses application for tfrequently.\n"
   ]
  },
  {
   "cell_type": "code",
   "execution_count": null,
   "id": "456bba64",
   "metadata": {},
   "outputs": [],
   "source": []
  }
 ],
 "metadata": {
  "kernelspec": {
   "display_name": "Python 3 (ipykernel)",
   "language": "python",
   "name": "python3"
  },
  "language_info": {
   "codemirror_mode": {
    "name": "ipython",
    "version": 3
   },
   "file_extension": ".py",
   "mimetype": "text/x-python",
   "name": "python",
   "nbconvert_exporter": "python",
   "pygments_lexer": "ipython3",
   "version": "3.10.9"
  }
 },
 "nbformat": 4,
 "nbformat_minor": 5
}
